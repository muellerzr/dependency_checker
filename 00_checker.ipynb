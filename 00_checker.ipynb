{
 "cells": [
  {
   "cell_type": "code",
   "execution_count": null,
   "metadata": {},
   "outputs": [],
   "source": [
    "# default_exp checker"
   ]
  },
  {
   "cell_type": "markdown",
   "metadata": {},
   "source": [
    "# Dependency Checker\n",
    "\n",
    "> A pragmatic way to talk with pypi and find out what dependencies are out of date"
   ]
  },
  {
   "cell_type": "code",
   "execution_count": null,
   "metadata": {},
   "outputs": [],
   "source": [
    "#hide\n",
    "from nbdev.showdoc import *"
   ]
  },
  {
   "cell_type": "markdown",
   "metadata": {},
   "source": [
    "## Dependency Traversing\n",
    "\n",
    "Sometimes, we may want to check the current installed versions of a project's basic dependencies, and further check if those dependencies are out of date. `dependency_checker` is designed around this concept, utilizing the `pipdeptree` library."
   ]
  },
  {
   "cell_type": "code",
   "execution_count": null,
   "metadata": {},
   "outputs": [
    {
     "name": "stderr",
     "output_type": "stream",
     "text": [
      "/opt/conda/lib/python3.9/site-packages/_distutils_hack/__init__.py:30: UserWarning: Setuptools is replacing distutils.\n",
      "  warnings.warn(\"Setuptools is replacing distutils.\")\n"
     ]
    }
   ],
   "source": [
    "#export\n",
    "import json, ast, pipdeptree, sys, subprocess\n",
    "from github import Github\n",
    "\n",
    "import requests\n",
    "\n",
    "from packaging.version import parse\n",
    "import sys\n",
    "\n",
    "if sys.version_info < (3, 8):\n",
    "    import importlib_metadata\n",
    "else:\n",
    "    import importlib.metadata as importlib_metadata"
   ]
  },
  {
   "cell_type": "code",
   "execution_count": null,
   "metadata": {},
   "outputs": [],
   "source": [
    "#export\n",
    "def get_installed_dependencies(\n",
    "    package_name:str, # The name of a python package\n",
    "    depth_limit:int=1, # How deep to follow nested dependencies\n",
    "    include_self:bool=False, # Whether to include the original library in the results\n",
    ") -> dict: # A dictionary of {package:version}\n",
    "    \"Recursively grabs dependencies of python package\"\n",
    "    pkgs = pipdeptree.get_installed_distributions(local_only=False, user_only=False)\n",
    "    tree = pipdeptree.PackageDAG.from_pkgs(pkgs)\n",
    "    tree = tree.filter([package_name], None)\n",
    "    curr_depth=0\n",
    "    def _get_deps(j, dep_dict={}, curr_depth=0):\n",
    "        if curr_depth > depth_limit: return dep_dict\n",
    "        if isinstance(j, list):\n",
    "            for a in j:\n",
    "                _get_deps(a, dep_dict, curr_depth)\n",
    "        elif isinstance(j, dict):\n",
    "            if 'package_name' in j.keys():\n",
    "                if j['package_name'] not in dep_dict.keys():\n",
    "                    dep_dict[j['package_name']] = j['installed_version']\n",
    "            if 'dependencies' in j.keys():\n",
    "                curr_depth += 1\n",
    "                return _get_deps(j['dependencies'], dep_dict, curr_depth)\n",
    "        return dep_dict\n",
    "    deps = _get_deps(ast.literal_eval(pipdeptree.render_json_tree(tree, 4)), {})\n",
    "    if not include_self: deps.pop(package_name, None)\n",
    "    return deps"
   ]
  },
  {
   "cell_type": "markdown",
   "metadata": {},
   "source": [
    "This function operates by traversing a DAG and grabbing dependencies of projects found from it. Generally a depth of 1 is recommended, below is a quick guide to what will be returned at each depth.\n",
    "\n",
    "\n",
    "**0**: A depth of zero will an empty dictionary  unless `include_self` is `True`. If so, it will include only the library name:"
   ]
  },
  {
   "cell_type": "code",
   "execution_count": null,
   "metadata": {},
   "outputs": [],
   "source": [
    "deps = get_installed_dependencies('pipdeptree', depth_limit=0)"
   ]
  },
  {
   "cell_type": "code",
   "execution_count": null,
   "metadata": {},
   "outputs": [],
   "source": [
    "assert deps == {}"
   ]
  },
  {
   "cell_type": "code",
   "execution_count": null,
   "metadata": {},
   "outputs": [],
   "source": [
    "deps = get_installed_dependencies('pipdeptree', depth_limit=0, include_self=True)"
   ]
  },
  {
   "cell_type": "code",
   "execution_count": null,
   "metadata": {},
   "outputs": [],
   "source": [
    "assert deps == {'pipdeptree':'2.2.1'}"
   ]
  },
  {
   "cell_type": "markdown",
   "metadata": {},
   "source": [
    "**1**: A depth of one will return the project and its main dependencies (if `include_self` is `True`), such as those stated in the `requirements.txt` as well as packages such as `pip` "
   ]
  },
  {
   "cell_type": "code",
   "execution_count": null,
   "metadata": {},
   "outputs": [],
   "source": [
    "deps = get_installed_dependencies('pipdeptree', depth_limit=1, include_self=True)"
   ]
  },
  {
   "cell_type": "code",
   "execution_count": null,
   "metadata": {},
   "outputs": [],
   "source": [
    "assert len(deps.keys()) == 2"
   ]
  },
  {
   "cell_type": "code",
   "execution_count": null,
   "metadata": {},
   "outputs": [],
   "source": [
    "assert all(package in deps.keys() for package in ('pipdeptree', 'pip'))"
   ]
  },
  {
   "cell_type": "code",
   "execution_count": null,
   "metadata": {},
   "outputs": [],
   "source": [
    "deps = get_installed_dependencies('pipdeptree', depth_limit=1, include_self=False)"
   ]
  },
  {
   "cell_type": "code",
   "execution_count": null,
   "metadata": {},
   "outputs": [],
   "source": [
    "assert len(deps.keys()) == 1"
   ]
  },
  {
   "cell_type": "code",
   "execution_count": null,
   "metadata": {},
   "outputs": [],
   "source": [
    "assert 'pip' in deps.keys()"
   ]
  },
  {
   "cell_type": "markdown",
   "metadata": {},
   "source": [
    "**2+**: A depth of two or greater will return the dependencies for each of the dependencies above that layer. These allow for more fine-grained requirements"
   ]
  },
  {
   "cell_type": "markdown",
   "metadata": {},
   "source": [
    "## Checking for New Versions\n",
    "\n",
    "Given these dependencies, we can also then check for a new version to see if an upgrade is available. This is what the `is_latest_version` function is designed for:"
   ]
  },
  {
   "cell_type": "code",
   "execution_count": null,
   "metadata": {},
   "outputs": [],
   "source": [
    "#export\n",
    "def is_latest_version(\n",
    "    package_name:str, # The name of a pip python package \n",
    "    current_version:str, # The installed version of a package, such as \"1.2.3\"\n",
    ") -> bool: # Whether the versions are the same\n",
    "    \"Compares the current version with the latest version, and returns if they are different\"\n",
    "    latest_version = str(subprocess.run([sys.executable, '-m', 'pip', 'install', '{}==random'.format(package_name)], capture_output=True, text=True))\n",
    "    latest_version = latest_version[latest_version.find('(from versions:')+15:]\n",
    "    latest_version = latest_version[:latest_version.find(')')]\n",
    "    latest_version = latest_version.replace(' ','').split(',')[-1]\n",
    "\n",
    "    if latest_version == current_version:\n",
    "        return True\n",
    "    else:\n",
    "        return False"
   ]
  },
  {
   "cell_type": "code",
   "execution_count": null,
   "metadata": {},
   "outputs": [],
   "source": [
    "using_latest_version = is_latest_version('pipdeptree', '2.0.9')\n",
    "assert using_latest_version == False"
   ]
  },
  {
   "cell_type": "markdown",
   "metadata": {},
   "source": [
    "Here we tested if `pipdeptree` is the latest version. The version we specified is one less than that of the latest release at the time of development. We got `False`, meaning a newer version is available."
   ]
  },
  {
   "cell_type": "markdown",
   "metadata": {},
   "source": [
    "### Checking the Release Notes"
   ]
  },
  {
   "cell_type": "code",
   "execution_count": null,
   "metadata": {},
   "outputs": [],
   "source": [
    "#export\n",
    "def get_github_repo_from_pypi(\n",
    "    name:str # The name of a pypi package\n",
    "):\n",
    "    \"Gets the Github URL for a pypi package\"\n",
    "    url = f\"https://pypi.org/pypi/{name}/json\"\n",
    "    r = requests.get(url)\n",
    "    urls = r.json()[\"info\"][\"project_urls\"]\n",
    "    for url in urls.values():\n",
    "        if \"github.com\" in url:\n",
    "            return \"/\".join(url.split(\"github.com/\")[1].split(\"/\")[:2])\n",
    "    return \"\""
   ]
  },
  {
   "cell_type": "code",
   "execution_count": null,
   "metadata": {},
   "outputs": [],
   "source": [
    "assert get_github_repo_from_pypi(\"dependency_checker\") == \"muellerzr/dependency_checker\""
   ]
  },
  {
   "cell_type": "code",
   "execution_count": null,
   "metadata": {},
   "outputs": [],
   "source": [
    "#export\n",
    "def get_latest_release_notes(\n",
    "    package:str # The name of a pypi package\n",
    "):\n",
    "    \"Gets the URL for the latest release notes of a pypi package from Github if available\"\n",
    "    client = Github()\n",
    "    url = get_github_repo_from_pypi(package)\n",
    "    if url != \"\":\n",
    "        repo = client.get_repo(url)\n",
    "        try:\n",
    "            latest = repo.get_latest_release()\n",
    "            notes_url = latest.html_url\n",
    "            release_tag = latest.tag_name\n",
    "            return {\"notes_url\":notes_url, \"release_tag\":release_tag}\n",
    "        except Exception as e:\n",
    "            if e.args[0] == 404:\n",
    "                return {}\n",
    "            raise\n",
    "    return {}"
   ]
  },
  {
   "cell_type": "code",
   "execution_count": null,
   "metadata": {},
   "outputs": [],
   "source": [
    "assert get_latest_release_notes(\"dependency_checker\") == {}\n",
    "assert list(get_latest_release_notes(\"torch\").keys()) == [\"notes_url\", \"release_tag\"]"
   ]
  },
  {
   "cell_type": "code",
   "execution_count": null,
   "metadata": {},
   "outputs": [],
   "source": [
    "def _in_notebook():\n",
    "    try:\n",
    "        shell = get_ipython().__class__.__name__\n",
    "        if shell == 'ZMQInteractiveShell':\n",
    "            return True   # Jupyter notebook or qtconsole\n",
    "        elif shell == 'TerminalInteractiveShell':\n",
    "            return False  # Terminal running IPython\n",
    "        else:\n",
    "            return False  # Other type (?)\n",
    "    except NameError:\n",
    "        return False      # Probably standard Python interpreter"
   ]
  },
  {
   "cell_type": "code",
   "execution_count": null,
   "metadata": {},
   "outputs": [],
   "source": [
    "#export\n",
    "def check_for_newer_release(\n",
    "    package:str, # The name of a pypi package\n",
    "    version:str = None # An optional version number\n",
    ") -> bool:\n",
    "    \"Checks if a newer release is available and then finds the release notes\"\n",
    "    if version is None:\n",
    "        version = parse(importlib_metadata.version(package))\n",
    "    if not is_latest_version(package, str(version)):\n",
    "        notes = get_latest_release_notes(package)\n",
    "        if notes != {}:\n",
    "            s = f\"Newer version of `{package}` was found available on pypi ({str(version)} -> {notes['release_tag']})\\n\\n\"\n",
    "            s += f\"To upgrade run `pip install {package} -U`\\n\\n\"\n",
    "            if _in_notebook():\n",
    "                from IPython.display import display, Markdown\n",
    "                s += f\"[Click Here]({notes['notes_url']}) to see the latest release notes.\"\n",
    "                display(Markdown(s))\n",
    "            else:\n",
    "                s += f\"To read the latest release notes go to: {notes['notes_url']}\"\n",
    "                print(s)\n",
    "                return True\n",
    "        else:\n",
    "            return False\n",
    "    return False"
   ]
  },
  {
   "cell_type": "markdown",
   "metadata": {},
   "source": [
    "With this utility we can quickly get a pretty formatted print of the new version to install, how to install it, and the latest release notes as a link:"
   ]
  },
  {
   "cell_type": "code",
   "execution_count": null,
   "metadata": {},
   "outputs": [
    {
     "data": {
      "text/markdown": [
       "Newer version of `torch` was found available on pypi (1.9.0 -> v1.11.0)\n",
       "\n",
       "To upgrade run `pip install torch -U`\n",
       "\n",
       "[Click Here](https://github.com/pytorch/pytorch/releases/tag/v1.11.0) to see the latest release notes."
      ],
      "text/plain": [
       "<IPython.core.display.Markdown object>"
      ]
     },
     "metadata": {},
     "output_type": "display_data"
    },
    {
     "data": {
      "text/plain": [
       "False"
      ]
     },
     "execution_count": null,
     "metadata": {},
     "output_type": "execute_result"
    }
   ],
   "source": [
    "check_for_newer_release(\"torch\", \"1.9.0\")"
   ]
  },
  {
   "cell_type": "code",
   "execution_count": null,
   "metadata": {},
   "outputs": [],
   "source": []
  }
 ],
 "metadata": {
  "kernelspec": {
   "display_name": "Python 3 (ipykernel)",
   "language": "python",
   "name": "python3"
  }
 },
 "nbformat": 4,
 "nbformat_minor": 4
}
