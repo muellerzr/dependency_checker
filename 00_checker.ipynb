{
 "cells": [
  {
   "cell_type": "code",
   "execution_count": null,
   "metadata": {},
   "outputs": [],
   "source": [
    "# default_exp checker"
   ]
  },
  {
   "cell_type": "markdown",
   "metadata": {},
   "source": [
    "# Dependency Checker\n",
    "\n",
    "> A pragmatic way to talk with pypi and find out what dependencies are out of date"
   ]
  },
  {
   "cell_type": "code",
   "execution_count": null,
   "metadata": {},
   "outputs": [],
   "source": [
    "#hide\n",
    "from nbverbose.showdoc import *"
   ]
  },
  {
   "cell_type": "markdown",
   "metadata": {},
   "source": [
    "## Dependency Traversing\n",
    "\n",
    "Sometimes, we may want to check the current installed versions of a project's basic dependencies, and further check if those dependencies are out of date. `dependency_checker` is designed around this concept, utilizing the `pipdeptree` library."
   ]
  },
  {
   "cell_type": "code",
   "execution_count": null,
   "metadata": {},
   "outputs": [],
   "source": [
    "#export\n",
    "import json, ast, pipdeptree, sys, subprocess"
   ]
  },
  {
   "cell_type": "code",
   "execution_count": null,
   "metadata": {},
   "outputs": [],
   "source": [
    "#export\n",
    "def get_installed_dependencies(\n",
    "    package_name:str, # The name of a python package\n",
    "    depth_limit:int=1, # How deep to follow nested dependencies\n",
    "    include_self:bool=False, # Whether to include the original library in the results\n",
    ") -> dict: # A dictionary of {package:version}\n",
    "    \"Recursively grabs dependencies of python package\"\n",
    "    pkgs = pipdeptree.get_installed_distributions(local_only=False, user_only=False)\n",
    "    tree = pipdeptree.PackageDAG.from_pkgs(pkgs)\n",
    "    tree = tree.filter([package_name], None)\n",
    "    curr_depth=0\n",
    "    def _get_deps(j, dep_dict={}, curr_depth=0):\n",
    "        if curr_depth > depth_limit: return dep_dict\n",
    "        if isinstance(j, list):\n",
    "            for a in j:\n",
    "                _get_deps(a, dep_dict, curr_depth)\n",
    "        elif isinstance(j, dict):\n",
    "            if 'package_name' in j.keys():\n",
    "                if j['package_name'] not in dep_dict.keys():\n",
    "                    dep_dict[j['package_name']] = j['installed_version']\n",
    "            if 'dependencies' in j.keys():\n",
    "                curr_depth += 1\n",
    "                return _get_deps(j['dependencies'], dep_dict, curr_depth)\n",
    "        return dep_dict\n",
    "    deps = _get_deps(ast.literal_eval(pipdeptree.render_json_tree(tree, 4)), {})\n",
    "    if not include_self: deps.pop(package_name, None)\n",
    "    return deps"
   ]
  },
  {
   "cell_type": "markdown",
   "metadata": {},
   "source": [
    "This function operates by traversing a DAG and grabbing dependencies of projects found from it. Generally a depth of 1 is recommended, below is a quick guide to what will be returned at each depth.\n",
    "\n",
    "\n",
    "**0**: A depth of zero will an empty dictionary  unless `include_self` is `True`. If so, it will include only the library name:"
   ]
  },
  {
   "cell_type": "code",
   "execution_count": null,
   "metadata": {},
   "outputs": [],
   "source": [
    "deps = get_installed_dependencies('pipdeptree', depth_limit=0)"
   ]
  },
  {
   "cell_type": "code",
   "execution_count": null,
   "metadata": {},
   "outputs": [],
   "source": [
    "assert deps == {}"
   ]
  },
  {
   "cell_type": "code",
   "execution_count": null,
   "metadata": {},
   "outputs": [],
   "source": [
    "deps = get_installed_dependencies('pipdeptree', depth_limit=0, include_self=True)"
   ]
  },
  {
   "cell_type": "code",
   "execution_count": null,
   "metadata": {},
   "outputs": [],
   "source": [
    "assert deps == {'pipdeptree':'2.1.0'}"
   ]
  },
  {
   "cell_type": "markdown",
   "metadata": {},
   "source": [
    "**1**: A depth of one will return the project and its main dependencies (if `include_self` is `True`), such as those stated in the `requirements.txt` as well as packages such as `pip` "
   ]
  },
  {
   "cell_type": "code",
   "execution_count": null,
   "metadata": {},
   "outputs": [],
   "source": [
    "deps = get_installed_dependencies('pipdeptree', depth_limit=1, include_self=True)"
   ]
  },
  {
   "cell_type": "code",
   "execution_count": null,
   "metadata": {},
   "outputs": [],
   "source": [
    "assert len(deps.keys()) == 2"
   ]
  },
  {
   "cell_type": "code",
   "execution_count": null,
   "metadata": {},
   "outputs": [],
   "source": [
    "assert all(package in deps.keys() for package in ('pipdeptree', 'pip'))"
   ]
  },
  {
   "cell_type": "code",
   "execution_count": null,
   "metadata": {},
   "outputs": [],
   "source": [
    "deps = get_installed_dependencies('pipdeptree', depth_limit=1, include_self=False)"
   ]
  },
  {
   "cell_type": "code",
   "execution_count": null,
   "metadata": {},
   "outputs": [],
   "source": [
    "assert len(deps.keys()) == 1"
   ]
  },
  {
   "cell_type": "code",
   "execution_count": null,
   "metadata": {},
   "outputs": [],
   "source": [
    "assert 'pip' in deps.keys()"
   ]
  },
  {
   "cell_type": "markdown",
   "metadata": {},
   "source": [
    "**2+**: A depth of two or greater will return the dependencies for each of the dependencies above that layer. These allow for more fine-grained requirements"
   ]
  },
  {
   "cell_type": "markdown",
   "metadata": {},
   "source": [
    "## Checking for New Versions\n",
    "\n",
    "Given these dependencies, we can also then check for a new version to see if an upgrade is available. This is what the `is_latest_version` function is designed for:"
   ]
  },
  {
   "cell_type": "code",
   "execution_count": null,
   "metadata": {},
   "outputs": [],
   "source": [
    "#export\n",
    "def is_latest_version(\n",
    "    package_name:str, # The name of a pip python package \n",
    "    current_version:str, # The installed version of a package, such as \"1.2.3\"\n",
    ") -> bool: # Whether the versions are the same\n",
    "    \"Compares the current version with the latest version, and returns if they are different\"\n",
    "    latest_version = str(subprocess.run([sys.executable, '-m', 'pip', 'install', '{}==random'.format(package_name)], capture_output=True, text=True))\n",
    "    latest_version = latest_version[latest_version.find('(from versions:')+15:]\n",
    "    latest_version = latest_version[:latest_version.find(')')]\n",
    "    latest_version = latest_version.replace(' ','').split(',')[-1]\n",
    "\n",
    "    if latest_version == current_version:\n",
    "        return True\n",
    "    else:\n",
    "        return False"
   ]
  },
  {
   "cell_type": "code",
   "execution_count": null,
   "metadata": {},
   "outputs": [],
   "source": [
    "using_latest_version = is_latest_version('pipdeptree', '2.0.9')\n",
    "assert using_latest_version == False"
   ]
  },
  {
   "cell_type": "markdown",
   "metadata": {},
   "source": [
    "Here we tested if `pipdeptree` is the latest version. The version we specified is one less than that of the latest release at the time of development. We got `False`, meaning a newer version is available."
   ]
  }
 ],
 "metadata": {
  "kernelspec": {
   "display_name": "Python 3 (ipykernel)",
   "language": "python",
   "name": "python3"
  }
 },
 "nbformat": 4,
 "nbformat_minor": 2
}
