{
 "cells": [
  {
   "cell_type": "code",
   "execution_count": null,
   "id": "6f07debe",
   "metadata": {},
   "outputs": [],
   "source": [
    "#default_exp pipreqs"
   ]
  },
  {
   "cell_type": "code",
   "execution_count": null,
   "id": "61e90dc4",
   "metadata": {},
   "outputs": [],
   "source": [
    "#hide\n",
    "from nbverbose.showdoc import *"
   ]
  },
  {
   "cell_type": "markdown",
   "id": "ff846175",
   "metadata": {},
   "source": [
    "# Codebase Requirement Extraction\n",
    "> Utilizing pipreqs to pull versioning information from a library"
   ]
  },
  {
   "cell_type": "markdown",
   "id": "6de3065b",
   "metadata": {},
   "source": [
    "## `pipreqs`\n",
    "\n",
    "[pipreqs](https://github.com/bndr/pipreqs/) is a lightweight library that allows for searching through source code to find all imports used throughout the codebase. \n",
    "\n",
    "We will utilize this for helping us write a clean `requirements.txt`, further than what it already does. Specifically the `get_all_imports` function"
   ]
  },
  {
   "cell_type": "code",
   "execution_count": null,
   "id": "bd6c573a",
   "metadata": {},
   "outputs": [],
   "source": [
    "#export\n",
    "from pipreqs.pipreqs import get_all_imports\n",
    "from dependency_checker.checker import get_installed_dependencies"
   ]
  },
  {
   "cell_type": "markdown",
   "id": "85e5a0e7",
   "metadata": {},
   "source": [
    "## Integration\n",
    "\n",
    "What follows is integration documentation for combining our two libraries"
   ]
  },
  {
   "cell_type": "code",
   "execution_count": null,
   "id": "890d2e9f",
   "metadata": {},
   "outputs": [
    {
     "data": {
      "text/plain": [
       "['pipdeptree']"
      ]
     },
     "execution_count": null,
     "metadata": {},
     "output_type": "execute_result"
    }
   ],
   "source": [
    "get_all_imports('dependency_checker')"
   ]
  },
  {
   "cell_type": "code",
   "execution_count": null,
   "id": "f5455d43",
   "metadata": {},
   "outputs": [
    {
     "data": {
      "text/plain": [
       "{'pip': '21.2.4'}"
      ]
     },
     "execution_count": null,
     "metadata": {},
     "output_type": "execute_result"
    }
   ],
   "source": [
    "get_installed_dependencies('pipdeptree', depth_limit=1)"
   ]
  },
  {
   "cell_type": "code",
   "execution_count": null,
   "id": "6355c959",
   "metadata": {},
   "outputs": [],
   "source": [
    "# Get rid of specific libraries"
   ]
  },
  {
   "cell_type": "code",
   "execution_count": null,
   "id": "1fc18287",
   "metadata": {},
   "outputs": [],
   "source": [
    "#export\n",
    "from typing import Union, List\n",
    "\n",
    "from fastcore.basics import merge, listify\n",
    "from fastcore.script import call_parse, Param\n",
    "from fastcore.xtras import Path"
   ]
  },
  {
   "cell_type": "code",
   "execution_count": null,
   "id": "7f475f7e",
   "metadata": {},
   "outputs": [],
   "source": [
    "#export\n",
    "def extract_project_dependencies(\n",
    "    # Name of a folder containing the source code for a python project\n",
    "    folder_name:Union[str,Path],\n",
    "    # The maximum recursive depth, when following a dependency's tree\n",
    "    depth_limit:int=1,\n",
    "    # Libraries who's dependency versions we ignore and instead use the library version\n",
    "    ignore_dependencies:Union[str, List[str]]=[],\n",
    "    # List of explicit library names that we remove from the final version dictionary\n",
    "    ignore_libraries:Union[str, List[str]]=[] \n",
    ") -> dict: # A dictionary of `{package:version}` for a project\n",
    "    \"Looks at a project folder, and pulls out all dependencies utilized in it\"\n",
    "    surface_level_deps = get_all_imports(folder_name)\n",
    "    all_deps = {}\n",
    "    for dep in surface_level_deps:\n",
    "        library_deps = get_installed_dependencies(dep, depth_limit=depth_limit, include_self=True)\n",
    "        for lib in listify(ignore_dependencies):\n",
    "            if lib in library_deps.keys():\n",
    "                library_deps = {dep:library_deps[dep]}\n",
    "                break\n",
    "        all_deps = merge(all_deps, library_deps)\n",
    "    ignore_libraries = listify(ignore_libraries)\n",
    "    if len(ignore_libraries) > 0:\n",
    "        for lib in ignore_libraries:\n",
    "            if lib in all_deps.keys():\n",
    "                all_deps.pop(lib)\n",
    "    return all_deps"
   ]
  },
  {
   "cell_type": "code",
   "execution_count": null,
   "id": "b94884d8",
   "metadata": {},
   "outputs": [],
   "source": [
    "#hide\n",
    "deps = extract_project_dependencies('dependency_checker')\n",
    "known_deps = ['pipdeptree', 'pip']\n",
    "for dep in known_deps: \n",
    "    assert dep in deps.keys()"
   ]
  },
  {
   "cell_type": "code",
   "execution_count": null,
   "id": "020811d3",
   "metadata": {},
   "outputs": [],
   "source": [
    "#hide\n",
    "deps = extract_project_dependencies('dependency_checker', ignore_dependencies='pip')\n",
    "known_deps = ['pipdeptree']\n",
    "for dep in known_deps: \n",
    "    assert dep in deps.keys()"
   ]
  },
  {
   "cell_type": "code",
   "execution_count": null,
   "id": "33976daa",
   "metadata": {},
   "outputs": [],
   "source": [
    "#export\n",
    "@call_parse\n",
    "def generate_requirements_file(\n",
    "    folder_name:Param(\"Name of a folder containing source code for a python project\", str),\n",
    "    depth_limit:Param(\"The maximum recursive depth, when following a dependency's tree\", int)=1,\n",
    "    ignore_dependencies:Param(\"Libraries who's dependency versions we ignore and instead use the library version\", str)=[],\n",
    "    ignore_libraries:Param(\"List of explicit library names that we remove from the final version dictionary\",str)=[],\n",
    "    requirements_file_name:Param(\"Name of requirements file\", str)=\"requirements.txt\",\n",
    "    new_requirements_path:Param(\"Relative location to store requirements file\", str)='.',\n",
    "    override_existing_requirements:Param(\"Whether to override the requirements file (0/1)\", int)=0\n",
    "):\n",
    "    \"Builds a requirements.txt file from a project folder to a directory\"\n",
    "    if not Path(folder_name).exists():\n",
    "        raise ValueError(f'Warning! {folder_name} is not an existing relative path to a folder!')\n",
    "    project_deps = extract_project_dependencies(folder_name, depth_limit, ignore_dependencies, ignore_libraries)\n",
    "    dep_strings = []\n",
    "    for dep, version in project_deps.items():\n",
    "        dep_strings.append(f'{dep}=={version}')\n",
    "    new_requirements_path = Path(new_requirements_path)\n",
    "    if not new_requirements_path.exists():\n",
    "        new_requirements_path.mkdir(parents=True)\n",
    "    requirements_file_path = Path(new_requirements_path)/requirements_file_name\n",
    "    if requirements_file_path.exists() and not override_existing_requirements:\n",
    "        raise ValueError(f\"Warning! {requirements_file_name} already exists, and `override_existing_requirements` is set to False\")\n",
    "    else:\n",
    "        requirements_file_path.touch()\n",
    "        requirements_file_path.write_text('\\n'.join(dep_strings))"
   ]
  },
  {
   "cell_type": "markdown",
   "id": "bf6bacc6",
   "metadata": {},
   "source": [
    "Usage example:\n",
    "```python\n",
    "generate_requirements_file(\n",
    "    folder_name='dependency_checker',\n",
    "    depth_limit=1,\n",
    "    requirements_file_name='test_requirements.txt',\n",
    "    new_requirements_path='tests/''\n",
    ")\n",
    "```\n"
   ]
  }
 ],
 "metadata": {
  "kernelspec": {
   "display_name": "Python 3 (ipykernel)",
   "language": "python",
   "name": "python3"
  }
 },
 "nbformat": 4,
 "nbformat_minor": 5
}
