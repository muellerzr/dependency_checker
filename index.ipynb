{
 "cells": [
  {
   "cell_type": "markdown",
   "metadata": {},
   "source": [
    "# Dependency Checker\n",
    "\n",
    "> A lightweight pythonic way to verify if python packages are on the latest version"
   ]
  },
  {
   "cell_type": "markdown",
   "metadata": {},
   "source": [
    "## Install"
   ]
  },
  {
   "cell_type": "markdown",
   "metadata": {},
   "source": [
    "`pip install dependency-checker`"
   ]
  },
  {
   "cell_type": "markdown",
   "metadata": {},
   "source": [
    "## How to use"
   ]
  },
  {
   "cell_type": "code",
   "execution_count": null,
   "metadata": {},
   "outputs": [],
   "source": [
    "from dependency_checker import get_installed_dependencies, is_latest_version"
   ]
  },
  {
   "cell_type": "markdown",
   "metadata": {},
   "source": [
    "`dependency_checker` has two functionalities:\n",
    "- Checking a python project's dependencies\n",
    "- Checking if a python package is on the latest version\n",
    "\n",
    "Each are intuitive to use, and have detailed documentation available.\n",
    "\n",
    "To check a package's dependencies, we can use the `get_installed_dependencies` function, passing in the string name of the module:"
   ]
  },
  {
   "cell_type": "code",
   "execution_count": null,
   "metadata": {},
   "outputs": [
    {
     "data": {
      "text/plain": [
       "{'packaging': '21.0', 'pip': '21.2.4', 'pipdeptree': '2.1.0'}"
      ]
     },
     "execution_count": null,
     "metadata": {},
     "output_type": "execute_result"
    }
   ],
   "source": [
    "get_installed_dependencies('dependency-checker', depth_limit=1)"
   ]
  },
  {
   "cell_type": "markdown",
   "metadata": {},
   "source": [
    "Generally a depth of 1 is enough to get a package's main dependencies, bar `pip`, `packaging`, and other \"standard\" python resources."
   ]
  },
  {
   "cell_type": "markdown",
   "metadata": {},
   "source": [
    "If we also want to include the original package, we can pass that in as a parameter:"
   ]
  },
  {
   "cell_type": "code",
   "execution_count": null,
   "metadata": {},
   "outputs": [
    {
     "data": {
      "text/plain": [
       "{'dependency-checker': '0.0.1',\n",
       " 'packaging': '21.0',\n",
       " 'pip': '21.2.4',\n",
       " 'pipdeptree': '2.1.0'}"
      ]
     },
     "execution_count": null,
     "metadata": {},
     "output_type": "execute_result"
    }
   ],
   "source": [
    "get_installed_dependencies('dependency-checker', depth_limit=1, include_self=True)"
   ]
  },
  {
   "cell_type": "markdown",
   "metadata": {},
   "source": [
    "There also exists `is_latest_version`, which will see if a package version is the latest available on `pypi`:"
   ]
  },
  {
   "cell_type": "code",
   "execution_count": null,
   "metadata": {},
   "outputs": [
    {
     "data": {
      "text/plain": [
       "False"
      ]
     },
     "execution_count": null,
     "metadata": {},
     "output_type": "execute_result"
    }
   ],
   "source": [
    "is_latest_version('pipdeptree', '2.0.9')"
   ]
  }
 ],
 "metadata": {
  "kernelspec": {
   "display_name": "Python 3 (ipykernel)",
   "language": "python",
   "name": "python3"
  }
 },
 "nbformat": 4,
 "nbformat_minor": 2
}
